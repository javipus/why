{
 "cells": [
  {
   "cell_type": "code",
   "execution_count": 6,
   "metadata": {},
   "outputs": [],
   "source": [
    "import numpy as np\n",
    "import pandas as pd\n",
    "import matplotlib.pyplot as plt\n",
    "\n",
    "import networkx as nx\n",
    "\n",
    "import dowhy\n",
    "from dowhy import CausalModel"
   ]
  },
  {
   "cell_type": "markdown",
   "metadata": {},
   "source": [
    "Model building"
   ]
  },
  {
   "cell_type": "code",
   "execution_count": 8,
   "metadata": {},
   "outputs": [
    {
     "ename": "AttributeError",
     "evalue": "module 'dowhy' has no attribute 'datasets'",
     "output_type": "error",
     "traceback": [
      "\u001b[0;31m---------------------------------------------------------------------------\u001b[0m",
      "\u001b[0;31mAttributeError\u001b[0m                            Traceback (most recent call last)",
      "\u001b[0;32m<ipython-input-8-a38126777ddc>\u001b[0m in \u001b[0;36m<module>\u001b[0;34m\u001b[0m\n\u001b[0;32m----> 1\u001b[0;31m \u001b[0mdowhy\u001b[0m\u001b[0;34m.\u001b[0m\u001b[0mdatasets\u001b[0m\u001b[0;34m.\u001b[0m\u001b[0mxy_dataset\u001b[0m\u001b[0;34m\u001b[0m\u001b[0;34m\u001b[0m\u001b[0m\n\u001b[0m",
      "\u001b[0;31mAttributeError\u001b[0m: module 'dowhy' has no attribute 'datasets'"
     ]
    }
   ],
   "source": [
    "# Create graph\n",
    "G = nx.DiGraph()\n",
    "\n",
    "# Label nodes\n",
    "G.add_nodes_from([\n",
    "    'Genome and kariotype',\n",
    "    'Hormones',\n",
    "    'Brain structure',\n",
    "    'External genitalia',\n",
    "    'Socialisation',\n",
    "    'Incentives in adulthood',\n",
    "    'Behaviour',\n",
    "    ])\n",
    "\n",
    "# Add edges\n",
    "G.add_edges_from([\n",
    "    ('Genome and kariotype', 'Brain structure'),\n",
    "    ('Genome and kariotype', 'Hormones'),\n",
    "    ('Genome and kariotype', 'External genitalia'),\n",
    "    ('Hormones', 'Brain structure'),\n",
    "    ('External genitalia', 'Socialisation'),\n",
    "    ('External genitalia', 'Incentives in adulthood'),\n",
    "    ('Socialisation', 'Brain structure'),\n",
    "    ('Brain structure', 'Behaviour'),\n",
    "    ('Hormones', 'Behaviour'),\n",
    "    ('Socialisation', 'Behaviour'),\n",
    "    ('Incentives in adulthood', 'Behaviour'),\n",
    "    ])\n",
    "\n",
    "# Write model in gml format\n",
    "nx.write_gml(G, 'gender.gml')\n",
    "\n",
    "# Build model\n",
    "model = CausalGraph(\n",
    "        treatment_name='Hormones',\n",
    "        outcome_name='Behaviour',\n",
    "        graph='gender.gml',\n",
    "        observed_node_names=[], # throws an exception w/ default value of None because non-iterable\n",
    "        )"
   ]
  },
  {
   "cell_type": "code",
   "execution_count": null,
   "metadata": {},
   "outputs": [],
   "source": []
  }
 ],
 "metadata": {
  "kernelspec": {
   "display_name": "Python 3",
   "language": "python",
   "name": "python3"
  },
  "language_info": {
   "codemirror_mode": {
    "name": "ipython",
    "version": 3
   },
   "file_extension": ".py",
   "mimetype": "text/x-python",
   "name": "python",
   "nbconvert_exporter": "python",
   "pygments_lexer": "ipython3",
   "version": "3.8.3"
  }
 },
 "nbformat": 4,
 "nbformat_minor": 4
}
